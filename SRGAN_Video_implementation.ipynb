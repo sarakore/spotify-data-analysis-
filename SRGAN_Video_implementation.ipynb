{
  "nbformat": 4,
  "nbformat_minor": 0,
  "metadata": {
    "colab": {
      "name": "SRGAN.ipynb",
      "provenance": []
    },
    "kernelspec": {
      "name": "python3",
      "display_name": "Python 3"
    },
    "accelerator": "GPU"
  },
  "cells": [
    {
      "cell_type": "code",
      "metadata": {
        "id": "8A1wjeU8t_lI",
        "colab": {
          "base_uri": "https://localhost:8080/"
        },
        "outputId": "8f0afa24-5696-4b1c-b192-fbf4e6dc2eae"
      },
      "source": [
        "!git clone https://github.com/krasserm/super-resolution   #Cloning a Pretrained Model"
      ],
      "execution_count": 1,
      "outputs": [
        {
          "output_type": "stream",
          "name": "stdout",
          "text": [
            "Cloning into 'super-resolution'...\n",
            "remote: Enumerating objects: 408, done.\u001b[K\n",
            "remote: Counting objects: 100% (3/3), done.\u001b[K\n",
            "remote: Compressing objects: 100% (2/2), done.\u001b[K\n",
            "remote: Total 408 (delta 0), reused 2 (delta 0), pack-reused 405\u001b[K\n",
            "Receiving objects: 100% (408/408), 48.16 MiB | 31.41 MiB/s, done.\n",
            "Resolving deltas: 100% (214/214), done.\n"
          ]
        }
      ]
    },
    {
      "cell_type": "code",
      "source": [
        "!mkdir /content/super-resolution\n"
      ],
      "metadata": {
        "colab": {
          "base_uri": "https://localhost:8080/"
        },
        "id": "GmdKImTWD2ey",
        "outputId": "10487509-19a6-416d-d159-578f9b8dfff4"
      },
      "execution_count": 3,
      "outputs": [
        {
          "output_type": "stream",
          "name": "stdout",
          "text": [
            "mkdir: cannot create directory ‘/content/super-resolution’: File exists\n"
          ]
        }
      ]
    },
    {
      "cell_type": "code",
      "source": [
        "cd /content/super-resolution\n"
      ],
      "metadata": {
        "colab": {
          "base_uri": "https://localhost:8080/"
        },
        "id": "QDcwDMGDEB_C",
        "outputId": "88c1fd22-3720-4829-821a-d3e95e6a5192"
      },
      "execution_count": 2,
      "outputs": [
        {
          "output_type": "stream",
          "name": "stdout",
          "text": [
            "/content/super-resolution\n"
          ]
        }
      ]
    },
    {
      "cell_type": "code",
      "metadata": {
        "id": "vLF35wOCuX5a",
        "colab": {
          "base_uri": "https://localhost:8080/"
        },
        "outputId": "1679dc96-3455-4d58-c4c4-7d98a4d1edfb"
      },
      "source": [
        "!tar xvfz /content/weights-srgan.tar.gz #Loading weights"
      ],
      "execution_count": 3,
      "outputs": [
        {
          "output_type": "stream",
          "name": "stdout",
          "text": [
            "tar (child): /content/weights-srgan.tar.gz: Cannot open: No such file or directory\n",
            "tar (child): Error is not recoverable: exiting now\n",
            "tar: Child returned status 2\n",
            "tar: Error is not recoverable: exiting now\n"
          ]
        }
      ]
    },
    {
      "cell_type": "code",
      "source": [
        "from google.colab import drive\n",
        "drive.mount('/content/drive')"
      ],
      "metadata": {
        "id": "TXAL2-C5wK8r",
        "outputId": "03d8a1a6-179c-4e9c-a150-19ad2846133a",
        "colab": {
          "base_uri": "https://localhost:8080/"
        }
      },
      "execution_count": 4,
      "outputs": [
        {
          "output_type": "stream",
          "name": "stdout",
          "text": [
            "Mounted at /content/drive\n"
          ]
        }
      ]
    },
    {
      "cell_type": "markdown",
      "metadata": {
        "id": "DBLk0lNyLXlD"
      },
      "source": [
        "# **SRGAN Model Implementation :-**\n",
        "\n",
        "---\n",
        "\n",
        "\n",
        "\n",
        "---\n",
        "\n"
      ]
    },
    {
      "cell_type": "code",
      "metadata": {
        "id": "mkBU5g7C42BB",
        "colab": {
          "base_uri": "https://localhost:8080/",
          "height": 575
        },
        "outputId": "ff245061-22fb-447c-a10c-35d841f9665b"
      },
      "source": [
        "# Importing all necessary libraries\n",
        "import sys\n",
        "sys.path.append(r'C:\\Users\\Sara\\Desktop\\sem 5\\ipd 1\\SRGAN-Based-Video-Enhancement-using-Single-Image-Super-Resolution\\superresolution')\n",
        "from model import srgan\n",
        "from model.common import resolve_single\n",
        "import timeit\n",
        "import cv2\n",
        "import os\n",
        "import numpy as np\n",
        "from model import srgan\n",
        "from superresolution.utils import load_image, plot_sample\n",
        "from srgan import generator\n",
        "\n",
        "# Read the video from specified path\n",
        "cam = cv2.VideoCapture(\"/content/Drama144p_input.3gp\")\n",
        "fps = cam.get(cv2.CAP_PROP_FPS)\n",
        "print(fps)\n",
        "\n",
        "\n",
        "try:\n",
        "\n",
        "    # Creating a folder named data\n",
        "    if not os.path.exists('data'):\n",
        "        os.makedirs('data')\n",
        "\n",
        "# if not created then raise error\n",
        "except OSError:\n",
        "    print ('Error: Creating directory of data')\n",
        "\n",
        "#frames Extraction from video\n",
        "currentframe = 0\n",
        "arr_img = []\n",
        "while(True):\n",
        "\n",
        "    # reading from frame\n",
        "    ret,frame = cam.read()\n",
        "\n",
        "    if ret:\n",
        "        # if video is still left continue creating images\n",
        "        name = './data/frame' + str(currentframe).zfill(3) + '.jpg'\n",
        "        print ('Creating...' + name)\n",
        "\n",
        "        # writing the extracted images\n",
        "        cv2.imwrite(name, frame)\n",
        "\n",
        "        # increasing counter so that it will show how many frames are created\n",
        "        currentframe += 1\n",
        "        #storing the path of extracted frames in a list\n",
        "        arr_img.append(name)\n",
        "    else:\n",
        "        break\n",
        "#print(arr_img)\n",
        "\n",
        "start = timeit.default_timer()\n",
        "model = generator()\n",
        "model.load_weights('weights/srgan/gan_generator.h5')\n",
        "\n",
        "#Initialization of an empty list to store the super resolved images\n",
        "arr_output=[]\n",
        "print(len(arr_img))\n",
        "n= len(arr_img)\n",
        "\n",
        "#Implementation of SRGAN Model in extracted frames\n",
        "for i in range(n):\n",
        "  lr = load_image(arr_img[i])\n",
        "  sr = resolve_single(model, lr)\n",
        "  #plot_sample(lr, sr)\n",
        "\n",
        "  arr_output.append(sr)\n",
        "stop = timeit.default_timer()\n",
        "#print(arr_output)\n",
        "\n",
        "print(\"time : \", stop-start)\n",
        "\n",
        "# Release all space and windows once done\n",
        "cam.release()\n",
        "cv2.destroyAllWindows()"
      ],
      "execution_count": 41,
      "outputs": [
        {
          "output_type": "error",
          "ename": "ModuleNotFoundError",
          "evalue": "No module named 'tensorflow.python.keras.layers.experimental'",
          "traceback": [
            "\u001b[0;31m---------------------------------------------------------------------------\u001b[0m",
            "\u001b[0;31mModuleNotFoundError\u001b[0m                       Traceback (most recent call last)",
            "\u001b[0;32m<ipython-input-41-7ddb0be907c5>\u001b[0m in \u001b[0;36m<cell line: 4>\u001b[0;34m()\u001b[0m\n\u001b[1;32m      2\u001b[0m \u001b[0;32mimport\u001b[0m \u001b[0msys\u001b[0m\u001b[0;34m\u001b[0m\u001b[0;34m\u001b[0m\u001b[0m\n\u001b[1;32m      3\u001b[0m \u001b[0msys\u001b[0m\u001b[0;34m.\u001b[0m\u001b[0mpath\u001b[0m\u001b[0;34m.\u001b[0m\u001b[0mappend\u001b[0m\u001b[0;34m(\u001b[0m\u001b[0;34mr'C:\\Users\\Sara\\Desktop\\sem 5\\ipd 1\\SRGAN-Based-Video-Enhancement-using-Single-Image-Super-Resolution\\superresolution'\u001b[0m\u001b[0;34m)\u001b[0m\u001b[0;34m\u001b[0m\u001b[0;34m\u001b[0m\u001b[0m\n\u001b[0;32m----> 4\u001b[0;31m \u001b[0;32mfrom\u001b[0m \u001b[0mmodel\u001b[0m \u001b[0;32mimport\u001b[0m \u001b[0msrgan\u001b[0m\u001b[0;34m\u001b[0m\u001b[0;34m\u001b[0m\u001b[0m\n\u001b[0m\u001b[1;32m      5\u001b[0m \u001b[0;32mfrom\u001b[0m \u001b[0mmodel\u001b[0m\u001b[0;34m.\u001b[0m\u001b[0mcommon\u001b[0m \u001b[0;32mimport\u001b[0m \u001b[0mresolve_single\u001b[0m\u001b[0;34m\u001b[0m\u001b[0;34m\u001b[0m\u001b[0m\n\u001b[1;32m      6\u001b[0m \u001b[0;32mimport\u001b[0m \u001b[0mtimeit\u001b[0m\u001b[0;34m\u001b[0m\u001b[0;34m\u001b[0m\u001b[0m\n",
            "\u001b[0;32m/content/super-resolution/model/srgan.py\u001b[0m in \u001b[0;36m<module>\u001b[0;34m\u001b[0m\n\u001b[0;32m----> 1\u001b[0;31m \u001b[0;32mfrom\u001b[0m \u001b[0mtensorflow\u001b[0m\u001b[0;34m.\u001b[0m\u001b[0mpython\u001b[0m\u001b[0;34m.\u001b[0m\u001b[0mkeras\u001b[0m\u001b[0;34m.\u001b[0m\u001b[0mlayers\u001b[0m\u001b[0;34m.\u001b[0m\u001b[0mexperimental\u001b[0m \u001b[0;32mimport\u001b[0m \u001b[0mAdd\u001b[0m\u001b[0;34m,\u001b[0m \u001b[0mBatchNormalization\u001b[0m\u001b[0;34m,\u001b[0m \u001b[0mConv2D\u001b[0m\u001b[0;34m,\u001b[0m \u001b[0mDense\u001b[0m\u001b[0;34m,\u001b[0m \u001b[0mFlatten\u001b[0m\u001b[0;34m,\u001b[0m \u001b[0mInput\u001b[0m\u001b[0;34m,\u001b[0m \u001b[0mLeakyReLU\u001b[0m\u001b[0;34m,\u001b[0m \u001b[0mPReLU\u001b[0m\u001b[0;34m,\u001b[0m \u001b[0mLambda\u001b[0m\u001b[0;34m\u001b[0m\u001b[0;34m\u001b[0m\u001b[0m\n\u001b[0m\u001b[1;32m      2\u001b[0m \u001b[0;32mfrom\u001b[0m \u001b[0mtensorflow\u001b[0m\u001b[0;34m.\u001b[0m\u001b[0mpython\u001b[0m\u001b[0;34m.\u001b[0m\u001b[0mkeras\u001b[0m\u001b[0;34m.\u001b[0m\u001b[0mmodels\u001b[0m \u001b[0;32mimport\u001b[0m \u001b[0mModel\u001b[0m\u001b[0;34m\u001b[0m\u001b[0;34m\u001b[0m\u001b[0m\n\u001b[1;32m      3\u001b[0m \u001b[0;32mfrom\u001b[0m \u001b[0mtensorflow\u001b[0m\u001b[0;34m.\u001b[0m\u001b[0mpython\u001b[0m\u001b[0;34m.\u001b[0m\u001b[0mkeras\u001b[0m\u001b[0;34m.\u001b[0m\u001b[0mapplications\u001b[0m\u001b[0;34m.\u001b[0m\u001b[0mvgg19\u001b[0m \u001b[0;32mimport\u001b[0m \u001b[0mVGG19\u001b[0m\u001b[0;34m\u001b[0m\u001b[0;34m\u001b[0m\u001b[0m\n\u001b[1;32m      4\u001b[0m \u001b[0;32mfrom\u001b[0m \u001b[0mtensorflow\u001b[0m\u001b[0;34m.\u001b[0m\u001b[0mkeras\u001b[0m\u001b[0;34m.\u001b[0m\u001b[0mlayers\u001b[0m\u001b[0;34m.\u001b[0m\u001b[0mexperimental\u001b[0m \u001b[0;32mimport\u001b[0m \u001b[0mBatchNormalization\u001b[0m\u001b[0;34m\u001b[0m\u001b[0;34m\u001b[0m\u001b[0m\n\u001b[1;32m      5\u001b[0m \u001b[0;32mfrom\u001b[0m \u001b[0mmodel\u001b[0m\u001b[0;34m.\u001b[0m\u001b[0mcommon\u001b[0m \u001b[0;32mimport\u001b[0m \u001b[0mpixel_shuffle\u001b[0m\u001b[0;34m,\u001b[0m \u001b[0mnormalize_01\u001b[0m\u001b[0;34m,\u001b[0m \u001b[0mnormalize_m11\u001b[0m\u001b[0;34m,\u001b[0m \u001b[0mdenormalize_m11\u001b[0m\u001b[0;34m\u001b[0m\u001b[0;34m\u001b[0m\u001b[0m\n",
            "\u001b[0;31mModuleNotFoundError\u001b[0m: No module named 'tensorflow.python.keras.layers.experimental'",
            "",
            "\u001b[0;31m---------------------------------------------------------------------------\u001b[0;32m\nNOTE: If your import is failing due to a missing package, you can\nmanually install dependencies using either !pip or !apt.\n\nTo view examples of installing some common dependencies, click the\n\"Open Examples\" button below.\n\u001b[0;31m---------------------------------------------------------------------------\u001b[0m\n"
          ],
          "errorDetails": {
            "actions": [
              {
                "action": "open_url",
                "actionText": "Open Examples",
                "url": "/notebooks/snippets/importing_libraries.ipynb"
              }
            ]
          }
        }
      ]
    },
    {
      "cell_type": "markdown",
      "metadata": {
        "id": "62ZtxImOJled"
      },
      "source": [
        "# **Saving the Super Resolved Frames :-**\n",
        "The super resolved frames are in numpy array format, so here we will change them in an image format."
      ]
    },
    {
      "cell_type": "code",
      "metadata": {
        "id": "ZHFzAIHUk9N2",
        "colab": {
          "base_uri": "https://localhost:8080/"
        },
        "outputId": "4f37b222-11ef-467f-faf6-52c7d582af09"
      },
      "source": [
        "#Importing necessary libraries\n",
        "from keras.preprocessing.image import load_img\n",
        "from keras.preprocessing.image import img_to_array\n",
        "from keras.preprocessing.image import array_to_img\n",
        "from keras.preprocessing.image import save_img\n",
        "\n",
        "#Making a directory for storing super resolved frames in image format\n",
        "os.makedirs(\"/content/super-resolution/output_images\", exist_ok=True)\n",
        "arr_output = []\n",
        "\n",
        "#Initialization of an empty list to store the path of Super resolved frames\n",
        "s_res= []\n",
        "for j in range(len(arr_output)):\n",
        "  out_name = '/content/super-resolution/output_images/frame' + str(j).zfill(3) + '.jpg'\n",
        "  save_img(out_name, arr_output[j])\n",
        "  img_pil = array_to_img(arr_output[j])\n",
        "  img1 = save_img(out_name, img_pil)\n",
        "  s_res.append(out_name)\n",
        "\n",
        "\n",
        "\n",
        "print(s_res)"
      ],
      "execution_count": 34,
      "outputs": [
        {
          "output_type": "stream",
          "name": "stdout",
          "text": [
            "[]\n"
          ]
        }
      ]
    },
    {
      "cell_type": "code",
      "source": [
        "/content/output_images"
      ],
      "metadata": {
        "id": "iCnzbl9WnqMM"
      },
      "execution_count": 18,
      "outputs": []
    },
    {
      "cell_type": "markdown",
      "metadata": {
        "id": "rAf8BC72W_Yo"
      },
      "source": [
        "# **Conversion of Super Resolved frames into a video**"
      ]
    },
    {
      "cell_type": "code",
      "metadata": {
        "id": "nIf9j6qJHU_y",
        "colab": {
          "base_uri": "https://localhost:8080/",
          "height": 228
        },
        "outputId": "8a1c63b5-ca09-4d29-caa5-02903c03dce8"
      },
      "source": [
        "import cv2\n",
        "import numpy as np\n",
        "for i in range(len(s_res)):\n",
        "    filename=s_res[i]\n",
        "    #reading each files\n",
        "    img = cv2.imread(filename)\n",
        "    height, width, layers = img.shape\n",
        "    size = (width,height)\n",
        "\n",
        "fps = 20       #Put the fps value as your convenience or\n",
        "               #Calculate by using (No. of frames)/Video_duration in seconds\n",
        "\n",
        "#Creation of output video\n",
        "out = cv2.VideoWriter('drama2_output.mp4',cv2.VideoWriter_fourcc(*'DIVX'), fps , size)\n",
        "\n",
        "#Writing Frames into video\n",
        "for i in range(len(s_res)):\n",
        "    out.write(cv2.imread(s_res[i]))\n",
        "out.release()"
      ],
      "execution_count": 30,
      "outputs": [
        {
          "output_type": "error",
          "ename": "NameError",
          "evalue": "name 'size' is not defined",
          "traceback": [
            "\u001b[0;31m---------------------------------------------------------------------------\u001b[0m",
            "\u001b[0;31mNameError\u001b[0m                                 Traceback (most recent call last)",
            "\u001b[0;32m<ipython-input-30-c670e92faf1a>\u001b[0m in \u001b[0;36m<cell line: 14>\u001b[0;34m()\u001b[0m\n\u001b[1;32m     12\u001b[0m \u001b[0;34m\u001b[0m\u001b[0m\n\u001b[1;32m     13\u001b[0m \u001b[0;31m#Creation of output video\u001b[0m\u001b[0;34m\u001b[0m\u001b[0;34m\u001b[0m\u001b[0m\n\u001b[0;32m---> 14\u001b[0;31m \u001b[0mout\u001b[0m \u001b[0;34m=\u001b[0m \u001b[0mcv2\u001b[0m\u001b[0;34m.\u001b[0m\u001b[0mVideoWriter\u001b[0m\u001b[0;34m(\u001b[0m\u001b[0;34m'drama2_output.mp4'\u001b[0m\u001b[0;34m,\u001b[0m\u001b[0mcv2\u001b[0m\u001b[0;34m.\u001b[0m\u001b[0mVideoWriter_fourcc\u001b[0m\u001b[0;34m(\u001b[0m\u001b[0;34m*\u001b[0m\u001b[0;34m'DIVX'\u001b[0m\u001b[0;34m)\u001b[0m\u001b[0;34m,\u001b[0m \u001b[0mfps\u001b[0m \u001b[0;34m,\u001b[0m \u001b[0msize\u001b[0m\u001b[0;34m)\u001b[0m\u001b[0;34m\u001b[0m\u001b[0;34m\u001b[0m\u001b[0m\n\u001b[0m\u001b[1;32m     15\u001b[0m \u001b[0;34m\u001b[0m\u001b[0m\n\u001b[1;32m     16\u001b[0m \u001b[0;31m#Writing Frames into video\u001b[0m\u001b[0;34m\u001b[0m\u001b[0;34m\u001b[0m\u001b[0m\n",
            "\u001b[0;31mNameError\u001b[0m: name 'size' is not defined"
          ]
        }
      ]
    },
    {
      "cell_type": "code",
      "source": [
        "# Get the path to the first frame in the s_res list\n",
        "first_frame_path = s_res[0]\n"
      ],
      "metadata": {
        "colab": {
          "base_uri": "https://localhost:8080/",
          "height": 158
        },
        "id": "WTYkJjO6pfKf",
        "outputId": "0989f71e-ef4e-496e-9c29-05f94ed6bf52"
      },
      "execution_count": 35,
      "outputs": [
        {
          "output_type": "error",
          "ename": "IndexError",
          "evalue": "list index out of range",
          "traceback": [
            "\u001b[0;31m---------------------------------------------------------------------------\u001b[0m",
            "\u001b[0;31mIndexError\u001b[0m                                Traceback (most recent call last)",
            "\u001b[0;32m<ipython-input-35-5fdd2b4c7c61>\u001b[0m in \u001b[0;36m<cell line: 2>\u001b[0;34m()\u001b[0m\n\u001b[1;32m      1\u001b[0m \u001b[0;31m# Get the path to the first frame in the s_res list\u001b[0m\u001b[0;34m\u001b[0m\u001b[0;34m\u001b[0m\u001b[0m\n\u001b[0;32m----> 2\u001b[0;31m \u001b[0mfirst_frame_path\u001b[0m \u001b[0;34m=\u001b[0m \u001b[0ms_res\u001b[0m\u001b[0;34m[\u001b[0m\u001b[0;36m0\u001b[0m\u001b[0;34m]\u001b[0m\u001b[0;34m\u001b[0m\u001b[0;34m\u001b[0m\u001b[0m\n\u001b[0m",
            "\u001b[0;31mIndexError\u001b[0m: list index out of range"
          ]
        }
      ]
    }
  ]
}